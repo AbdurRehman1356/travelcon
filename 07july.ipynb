{
 "cells": [
  {
   "cell_type": "code",
   "execution_count": 8,
   "id": "2b4b13dd-0faa-48d1-b60b-146a2a11a150",
   "metadata": {},
   "outputs": [],
   "source": [
    "student_1 = dict()"
   ]
  },
  {
   "cell_type": "code",
   "execution_count": 16,
   "id": "88609fef-0508-4fb6-875e-4170f37cc876",
   "metadata": {},
   "outputs": [],
   "source": [
    "student_1 = {\"name\" : \"shahid\" , \"dob\" : \"1990\" ,\"city\" : \"lahore\" , \"class\" : 2, \"subjects\" : [\"math\",\"chemsitry\"]}\n",
    "student_2 = {\"name\" : \"bilal\" , \"dob\" : \"1991\" ,\"city\" : \"lahore\" , \"class\" : 2, \"subjects\" : [\"math\",\"chemsitry\"]}\n",
    "student_3 = {\"name\" : \"imran\" , \"dob\" : \"1992\" ,\"city\" : \"lahore\" , \"class\" : 2, \"subjects\" : [\"math\",\"chemsitry\"]}"
   ]
  },
  {
   "cell_type": "code",
   "execution_count": 17,
   "id": "972e3121-7c75-4b55-9ed7-585da16fb21a",
   "metadata": {},
   "outputs": [
    {
     "name": "stdout",
     "output_type": "stream",
     "text": [
      "{'name': 'shahid', 'dob': '1990', 'city': 'lahore', 'class': 2, 'subjects': ['math', 'chemsitry']} {'name': 'bilal', 'dob': '1991', 'city': 'lahore', 'class': 2, 'subjects': ['math', 'chemsitry']} {'name': 'imran', 'dob': '1992', 'city': 'lahore', 'class': 2, 'subjects': ['math', 'chemsitry']}\n"
     ]
    }
   ],
   "source": [
    "print(student_1,student_2,student_3)"
   ]
  },
  {
   "cell_type": "code",
   "execution_count": 18,
   "id": "ae9ffc6d-1bc5-4f2d-9379-0c7d8a9818b8",
   "metadata": {},
   "outputs": [
    {
     "name": "stdout",
     "output_type": "stream",
     "text": [
      "shahid 1990\n",
      "bilal 1991\n",
      "imran 1992\n"
     ]
    }
   ],
   "source": [
    "list_students = [student_1,student_2,student_3]\n",
    "for i in list_students:\n",
    "    print(i[\"name\"],i[\"dob\"])"
   ]
  },
  {
   "cell_type": "code",
   "execution_count": 19,
   "id": "7efa69cb-dba2-4766-91cb-05148a798979",
   "metadata": {},
   "outputs": [],
   "source": [
    "student_1.update({\"name\" : \"AR\"})"
   ]
  },
  {
   "cell_type": "code",
   "execution_count": 20,
   "id": "86a37cc5-7390-47b8-843d-874f65b69bf5",
   "metadata": {},
   "outputs": [
    {
     "data": {
      "text/plain": [
       "{'name': 'AR',\n",
       " 'dob': '1990',\n",
       " 'city': 'lahore',\n",
       " 'class': 2,\n",
       " 'subjects': ['math', 'chemsitry']}"
      ]
     },
     "execution_count": 20,
     "metadata": {},
     "output_type": "execute_result"
    }
   ],
   "source": [
    "student_1"
   ]
  },
  {
   "cell_type": "code",
   "execution_count": 21,
   "id": "ba112ca7-5387-4bd1-b810-18cc06c604d8",
   "metadata": {},
   "outputs": [
    {
     "data": {
      "text/plain": [
       "'AR'"
      ]
     },
     "execution_count": 21,
     "metadata": {},
     "output_type": "execute_result"
    }
   ],
   "source": [
    "student_1.pop(\"name\")"
   ]
  },
  {
   "cell_type": "code",
   "execution_count": 22,
   "id": "5097b7ae-f959-44ff-9b24-bc996d8ec0ea",
   "metadata": {},
   "outputs": [
    {
     "data": {
      "text/plain": [
       "{'dob': '1990',\n",
       " 'city': 'lahore',\n",
       " 'class': 2,\n",
       " 'subjects': ['math', 'chemsitry']}"
      ]
     },
     "execution_count": 22,
     "metadata": {},
     "output_type": "execute_result"
    }
   ],
   "source": [
    "student_1"
   ]
  },
  {
   "cell_type": "code",
   "execution_count": 23,
   "id": "158fcdc3-464c-47c6-a180-25e85d405782",
   "metadata": {},
   "outputs": [
    {
     "data": {
      "text/plain": [
       "('subjects', ['math', 'chemsitry'])"
      ]
     },
     "execution_count": 23,
     "metadata": {},
     "output_type": "execute_result"
    }
   ],
   "source": [
    "student_1.popitem()"
   ]
  },
  {
   "cell_type": "code",
   "execution_count": 24,
   "id": "704f5352-a3f2-4a44-a0db-a411ca0bdfa0",
   "metadata": {},
   "outputs": [
    {
     "data": {
      "text/plain": [
       "{'dob': '1990', 'city': 'lahore', 'class': 2}"
      ]
     },
     "execution_count": 24,
     "metadata": {},
     "output_type": "execute_result"
    }
   ],
   "source": [
    "student_1"
   ]
  },
  {
   "cell_type": "code",
   "execution_count": null,
   "id": "1b25e5c4-1a49-46fc-ad91-8961c06e4290",
   "metadata": {},
   "outputs": [],
   "source": []
  },
  {
   "cell_type": "code",
   "execution_count": null,
   "id": "7964793f-9288-4ef8-8681-95420b3ed407",
   "metadata": {},
   "outputs": [],
   "source": []
  },
  {
   "cell_type": "markdown",
   "id": "e1d2b773-62bb-4356-80ff-7aa4371fb424",
   "metadata": {},
   "source": [
    "## what is differnce between deep copy and shalow copy?"
   ]
  },
  {
   "cell_type": "code",
   "execution_count": 25,
   "id": "50b51855-9e1b-4afe-99a0-e01b8cf47dc4",
   "metadata": {},
   "outputs": [],
   "source": [
    "student_1 = {\"name\" : \"shahid\" , \"dob\" : \"1990\" ,\"city\" : \"lahore\" , \"class\" : 2, \"subjects\" : [\"math\",\"chemsitry\"]}"
   ]
  },
  {
   "cell_type": "code",
   "execution_count": 26,
   "id": "f6d19a86-0d8c-4095-a494-dc908ded56a5",
   "metadata": {},
   "outputs": [
    {
     "data": {
      "text/plain": [
       "'shahid'"
      ]
     },
     "execution_count": 26,
     "metadata": {},
     "output_type": "execute_result"
    }
   ],
   "source": [
    "student_1.pop(\"name\")"
   ]
  },
  {
   "cell_type": "code",
   "execution_count": 27,
   "id": "2933e282-45ee-4319-846a-4c1c56d304df",
   "metadata": {},
   "outputs": [
    {
     "data": {
      "text/plain": [
       "{'dob': '1990',\n",
       " 'city': 'lahore',\n",
       " 'class': 2,\n",
       " 'subjects': ['math', 'chemsitry']}"
      ]
     },
     "execution_count": 27,
     "metadata": {},
     "output_type": "execute_result"
    }
   ],
   "source": [
    "student_1"
   ]
  },
  {
   "cell_type": "code",
   "execution_count": 28,
   "id": "eff5a428-b143-4edf-ab17-be6aa68241af",
   "metadata": {},
   "outputs": [
    {
     "data": {
      "text/plain": [
       "('subjects', ['math', 'chemsitry'])"
      ]
     },
     "execution_count": 28,
     "metadata": {},
     "output_type": "execute_result"
    }
   ],
   "source": [
    "student_1.popitem()"
   ]
  },
  {
   "cell_type": "code",
   "execution_count": 29,
   "id": "4968b3d5-866f-4671-bb9d-16830a70160f",
   "metadata": {},
   "outputs": [
    {
     "data": {
      "text/plain": [
       "{'dob': '1990', 'city': 'lahore', 'class': 2}"
      ]
     },
     "execution_count": 29,
     "metadata": {},
     "output_type": "execute_result"
    }
   ],
   "source": [
    "student_1"
   ]
  },
  {
   "cell_type": "code",
   "execution_count": 34,
   "id": "d4b7671c-c5f4-4275-8b4e-f63f799bc75e",
   "metadata": {},
   "outputs": [],
   "source": [
    "del student_1[\"dob\"]"
   ]
  },
  {
   "cell_type": "code",
   "execution_count": 35,
   "id": "f1fe2bcb-163e-4116-87d8-2183a58a84a2",
   "metadata": {},
   "outputs": [
    {
     "data": {
      "text/plain": [
       "{'city': 'lahore', 'class': 2}"
      ]
     },
     "execution_count": 35,
     "metadata": {},
     "output_type": "execute_result"
    }
   ],
   "source": [
    "student_1"
   ]
  },
  {
   "cell_type": "code",
   "execution_count": null,
   "id": "cb438912-34b8-46a8-bf0a-3186cce51c18",
   "metadata": {},
   "outputs": [],
   "source": []
  },
  {
   "cell_type": "code",
   "execution_count": null,
   "id": "0a50f996-dc21-4f25-b8fc-16de73ca0deb",
   "metadata": {},
   "outputs": [],
   "source": []
  },
  {
   "cell_type": "code",
   "execution_count": 39,
   "id": "e75a6ff6-de0a-4950-9e31-1080754e76c6",
   "metadata": {},
   "outputs": [],
   "source": [
    "student_1 = {\"name\" : \"shahid\" , \"dob\" : \"1990\" ,\"city\" : \"lahore\" , \"class\" : 2, \"subjects\" : [\"math\",\"chemsitry\"]}"
   ]
  },
  {
   "cell_type": "code",
   "execution_count": 41,
   "id": "53779097-9249-42aa-bfeb-08f7cb574639",
   "metadata": {},
   "outputs": [
    {
     "name": "stdout",
     "output_type": "stream",
     "text": [
      "name shahid\n",
      "dob 1990\n",
      "city lahore\n",
      "class 2\n",
      "subjects ['math', 'chemsitry']\n"
     ]
    }
   ],
   "source": [
    "for key,value in student_1.items():\n",
    "    print(key,value)"
   ]
  },
  {
   "cell_type": "code",
   "execution_count": null,
   "id": "ca0ca58f-1c6c-4b29-a589-72cc1903bfea",
   "metadata": {},
   "outputs": [],
   "source": []
  },
  {
   "cell_type": "code",
   "execution_count": null,
   "id": "47d224b8-3e46-4b5b-8534-2d112fc1c0e2",
   "metadata": {},
   "outputs": [],
   "source": []
  },
  {
   "cell_type": "code",
   "execution_count": null,
   "id": "6265e020-d0f8-4fc9-a40f-42480183d392",
   "metadata": {},
   "outputs": [],
   "source": []
  },
  {
   "cell_type": "code",
   "execution_count": 60,
   "id": "390c934e-79f3-4bef-a227-284235a52e64",
   "metadata": {},
   "outputs": [],
   "source": [
    "salary = {\"shahid\" : 7000 , \"nauman\" : 4000 , \"arslan\" : 3000 , \"imran\" : 5000}"
   ]
  },
  {
   "cell_type": "code",
   "execution_count": 61,
   "id": "66f835fa-17b0-49d3-a5de-045d7f78bfb8",
   "metadata": {},
   "outputs": [],
   "source": [
    "max_salary = max(salary.values())\n"
   ]
  },
  {
   "cell_type": "code",
   "execution_count": 62,
   "id": "674142d3-b43a-4865-b050-ecf5da08439b",
   "metadata": {},
   "outputs": [
    {
     "data": {
      "text/plain": [
       "7000"
      ]
     },
     "execution_count": 62,
     "metadata": {},
     "output_type": "execute_result"
    }
   ],
   "source": [
    "max_salary"
   ]
  },
  {
   "cell_type": "code",
   "execution_count": 70,
   "id": "2211bd0c-3165-447e-98e5-f2335ee1ba37",
   "metadata": {},
   "outputs": [],
   "source": [
    "employee_1 = {\"name\" : \"shahid\", \"salary\" : 4000}\n",
    "employee_2 = {\"name\" : \"bilal\", \"salary\" : 5000}\n",
    "employee_3 = {\"name\" : \"imran\", \"salary\" : 6000}\n",
    "employee_4 = {\"name\" : \"shahid\", \"salary\" : 7000}"
   ]
  },
  {
   "cell_type": "code",
   "execution_count": 71,
   "id": "9f593c4d-f040-47c0-a00d-5dae1f1e94a7",
   "metadata": {},
   "outputs": [],
   "source": [
    "employees = [employee_1,employee_2,employee_3,employee_4]"
   ]
  },
  {
   "cell_type": "code",
   "execution_count": 82,
   "id": "3ba268c9-971e-4e17-860a-b457c7ab2225",
   "metadata": {},
   "outputs": [
    {
     "data": {
      "text/plain": [
       "[{'name': 'shahid', 'salary': 4000},\n",
       " {'name': 'bilal', 'salary': 5000},\n",
       " {'name': 'imran', 'salary': 6000},\n",
       " {'name': 'shahid', 'salary': 7000}]"
      ]
     },
     "execution_count": 82,
     "metadata": {},
     "output_type": "execute_result"
    }
   ],
   "source": [
    "employees"
   ]
  },
  {
   "cell_type": "code",
   "execution_count": 83,
   "id": "2391c7a4-71e2-4f21-9e51-6cc6a3b9d93c",
   "metadata": {},
   "outputs": [],
   "source": [
    "def employee_high_salary(obj):\n",
    "    highest_salary = 0\n",
    "    for i in obj:\n",
    "        salary = i[\"salary\"]\n",
    "        if salary > highest_salary:\n",
    "            highest_salary = salary\n",
    "    return highest_salary"
   ]
  },
  {
   "cell_type": "code",
   "execution_count": 84,
   "id": "c40ac742-6493-4aa0-880c-4d079bf32868",
   "metadata": {},
   "outputs": [
    {
     "data": {
      "text/plain": [
       "7000"
      ]
     },
     "execution_count": 84,
     "metadata": {},
     "output_type": "execute_result"
    }
   ],
   "source": [
    "employee_high_salary(employees)"
   ]
  },
  {
   "cell_type": "code",
   "execution_count": 96,
   "id": "ae4bbac8-d11a-4857-a915-4f2de00eb260",
   "metadata": {},
   "outputs": [],
   "source": [
    "def avg_salary(obj):\n",
    "    total_salary = 0\n",
    "    for i in obj:\n",
    "        total_salary = total_salary + i[\"salary\"]\n",
    "    return total_salary / len(obj)"
   ]
  },
  {
   "cell_type": "code",
   "execution_count": 97,
   "id": "483705de-b67c-4a97-98ec-070f7385cfd7",
   "metadata": {},
   "outputs": [
    {
     "data": {
      "text/plain": [
       "5500.0"
      ]
     },
     "execution_count": 97,
     "metadata": {},
     "output_type": "execute_result"
    }
   ],
   "source": [
    "avg_salary(employees)"
   ]
  },
  {
   "cell_type": "code",
   "execution_count": null,
   "id": "77c2a6e8-e0e1-43be-a78a-47d7468d08c7",
   "metadata": {},
   "outputs": [],
   "source": []
  },
  {
   "cell_type": "code",
   "execution_count": null,
   "id": "16e808c0-0c5c-46c9-ba97-713c1c19f1cb",
   "metadata": {},
   "outputs": [],
   "source": []
  },
  {
   "cell_type": "markdown",
   "id": "2f86be95-0cae-46f7-8c2b-ed1457b5047f",
   "metadata": {},
   "source": [
    "## set"
   ]
  },
  {
   "cell_type": "code",
   "execution_count": 88,
   "id": "8b13bfd5-6321-4f47-9bfa-93318606aeb8",
   "metadata": {},
   "outputs": [],
   "source": [
    "abc = {0,0,0,1}"
   ]
  },
  {
   "cell_type": "code",
   "execution_count": 89,
   "id": "4a960305-f98a-47a2-a054-245292040d3e",
   "metadata": {},
   "outputs": [
    {
     "data": {
      "text/plain": [
       "{0, 1}"
      ]
     },
     "execution_count": 89,
     "metadata": {},
     "output_type": "execute_result"
    }
   ],
   "source": [
    "abc"
   ]
  },
  {
   "cell_type": "code",
   "execution_count": 90,
   "id": "96605a1d-2d8c-4cec-a8a3-ca743edf2fac",
   "metadata": {},
   "outputs": [],
   "source": [
    "abc.add(8)"
   ]
  },
  {
   "cell_type": "code",
   "execution_count": 91,
   "id": "28b87f86-3d0c-468a-a123-8f95d833de17",
   "metadata": {},
   "outputs": [
    {
     "data": {
      "text/plain": [
       "{0, 1, 8}"
      ]
     },
     "execution_count": 91,
     "metadata": {},
     "output_type": "execute_result"
    }
   ],
   "source": [
    "abc"
   ]
  },
  {
   "cell_type": "code",
   "execution_count": 92,
   "id": "10a62d39-bf84-441c-892e-923d693f6c11",
   "metadata": {},
   "outputs": [],
   "source": [
    "abc.update({3,4})"
   ]
  },
  {
   "cell_type": "code",
   "execution_count": 93,
   "id": "ef7c21d3-6895-47b8-853e-7a0bcaa8d256",
   "metadata": {},
   "outputs": [
    {
     "data": {
      "text/plain": [
       "{0, 1, 3, 4, 8}"
      ]
     },
     "execution_count": 93,
     "metadata": {},
     "output_type": "execute_result"
    }
   ],
   "source": [
    "abc"
   ]
  },
  {
   "cell_type": "code",
   "execution_count": 98,
   "id": "faa5b305-abe0-4319-8018-ee5137045b9b",
   "metadata": {},
   "outputs": [],
   "source": [
    "abc.remove(4)"
   ]
  },
  {
   "cell_type": "code",
   "execution_count": 99,
   "id": "7db2479e-474e-4baa-9577-11a95975001b",
   "metadata": {},
   "outputs": [
    {
     "data": {
      "text/plain": [
       "{0, 1, 3, 8}"
      ]
     },
     "execution_count": 99,
     "metadata": {},
     "output_type": "execute_result"
    }
   ],
   "source": [
    "abc"
   ]
  },
  {
   "cell_type": "code",
   "execution_count": 103,
   "id": "1f9a22ff-47b6-4655-9be8-5b05528200e8",
   "metadata": {},
   "outputs": [],
   "source": [
    "abc2 = {9,7,6,1}"
   ]
  },
  {
   "cell_type": "code",
   "execution_count": 104,
   "id": "14af61e9-89a5-4f1f-a018-a96026cbc689",
   "metadata": {},
   "outputs": [
    {
     "data": {
      "text/plain": [
       "{0, 1, 3, 6, 7, 8, 9}"
      ]
     },
     "execution_count": 104,
     "metadata": {},
     "output_type": "execute_result"
    }
   ],
   "source": [
    "abc | abc2  ## union of all sets"
   ]
  },
  {
   "cell_type": "code",
   "execution_count": 105,
   "id": "93d059ac-5d84-4193-9553-c686e3bdd560",
   "metadata": {},
   "outputs": [
    {
     "data": {
      "text/plain": [
       "{1}"
      ]
     },
     "execution_count": 105,
     "metadata": {},
     "output_type": "execute_result"
    }
   ],
   "source": [
    "abc & abc2  ## common in all sets"
   ]
  },
  {
   "cell_type": "code",
   "execution_count": null,
   "id": "17508264-5e59-4647-b91d-6d3b599dd25b",
   "metadata": {},
   "outputs": [],
   "source": []
  }
 ],
 "metadata": {
  "kernelspec": {
   "display_name": "Python 3 (ipykernel)",
   "language": "python",
   "name": "python3"
  },
  "language_info": {
   "codemirror_mode": {
    "name": "ipython",
    "version": 3
   },
   "file_extension": ".py",
   "mimetype": "text/x-python",
   "name": "python",
   "nbconvert_exporter": "python",
   "pygments_lexer": "ipython3",
   "version": "3.10.14"
  }
 },
 "nbformat": 4,
 "nbformat_minor": 5
}
