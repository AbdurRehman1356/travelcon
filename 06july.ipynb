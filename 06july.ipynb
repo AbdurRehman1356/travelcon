{
 "cells": [
  {
   "cell_type": "code",
   "execution_count": 1,
   "id": "000b35c0-a120-44a9-9ce2-e9edaa74b138",
   "metadata": {},
   "outputs": [],
   "source": [
    "##list with list"
   ]
  },
  {
   "cell_type": "code",
   "execution_count": 2,
   "id": "df77f103-037b-4569-b02b-6a2b501344f8",
   "metadata": {},
   "outputs": [],
   "source": [
    "list = [1,2,3,4]\n",
    "list2 = [16,7,8]\n"
   ]
  },
  {
   "cell_type": "code",
   "execution_count": 3,
   "id": "87712b7c-5aec-4e4f-a426-2b5bfc62f7ca",
   "metadata": {},
   "outputs": [
    {
     "name": "stdout",
     "output_type": "stream",
     "text": [
      "[1, 2, 3, 4]\n"
     ]
    }
   ],
   "source": [
    "print(list)\n"
   ]
  },
  {
   "cell_type": "code",
   "execution_count": 4,
   "id": "5d27bcc0-82fc-4364-96e7-16ab2b8eb0f0",
   "metadata": {},
   "outputs": [],
   "source": [
    "list.append(6)"
   ]
  },
  {
   "cell_type": "code",
   "execution_count": 7,
   "id": "ee8d173e-5a1c-45c1-94e5-4ba2357e7c50",
   "metadata": {},
   "outputs": [
    {
     "data": {
      "text/plain": [
       "[1, 2, 3, 4, 6]"
      ]
     },
     "execution_count": 7,
     "metadata": {},
     "output_type": "execute_result"
    }
   ],
   "source": [
    "list"
   ]
  },
  {
   "cell_type": "code",
   "execution_count": 8,
   "id": "62f03e68-cc21-460e-928d-4ddae25f10ea",
   "metadata": {},
   "outputs": [],
   "source": [
    "list.insert(1,\"new_element\")"
   ]
  },
  {
   "cell_type": "code",
   "execution_count": 9,
   "id": "229a536c-1823-4f0a-baf6-68e33bbc4049",
   "metadata": {},
   "outputs": [
    {
     "data": {
      "text/plain": [
       "[1, 'new_element', 2, 3, 4, 6]"
      ]
     },
     "execution_count": 9,
     "metadata": {},
     "output_type": "execute_result"
    }
   ],
   "source": [
    "list"
   ]
  },
  {
   "cell_type": "code",
   "execution_count": null,
   "id": "e0bf0a67-f2eb-4a8c-8ca8-9b52a235805e",
   "metadata": {},
   "outputs": [],
   "source": [
    "#3extend function"
   ]
  },
  {
   "cell_type": "code",
   "execution_count": null,
   "id": "706045fb-68a8-48b2-9612-b6cba416d3d7",
   "metadata": {},
   "outputs": [],
   "source": [
    "list = [1,2,3,4]\n",
    "list2 = [16,7,8]"
   ]
  },
  {
   "cell_type": "code",
   "execution_count": 10,
   "id": "a7e88475-1b8e-49d5-88f2-1b945132996b",
   "metadata": {},
   "outputs": [],
   "source": [
    "new = list + list2"
   ]
  },
  {
   "cell_type": "code",
   "execution_count": 11,
   "id": "0e04a054-a6b9-4e5a-af44-9779f2a35fd1",
   "metadata": {},
   "outputs": [
    {
     "name": "stdout",
     "output_type": "stream",
     "text": [
      "[1, 'new_element', 2, 3, 4, 6, 16, 7, 8, [5, 6]]\n"
     ]
    }
   ],
   "source": [
    "print(new)"
   ]
  },
  {
   "cell_type": "code",
   "execution_count": 14,
   "id": "efc08e5f-9696-40c4-8077-f1ceec6c0a49",
   "metadata": {},
   "outputs": [],
   "source": [
    "list.extend(list2)"
   ]
  },
  {
   "cell_type": "code",
   "execution_count": 15,
   "id": "49903804-85eb-4876-adb6-75ed87744d68",
   "metadata": {},
   "outputs": [
    {
     "data": {
      "text/plain": [
       "[1, 'new_element', 2, 3, 4, 6, 16, 7, 8, [5, 6], 16, 7, 8, [5, 6]]"
      ]
     },
     "execution_count": 15,
     "metadata": {},
     "output_type": "execute_result"
    }
   ],
   "source": [
    "list"
   ]
  },
  {
   "cell_type": "code",
   "execution_count": null,
   "id": "1ebc78f1-9be4-41bf-aeb4-6389c3957f54",
   "metadata": {},
   "outputs": [],
   "source": []
  },
  {
   "cell_type": "code",
   "execution_count": 17,
   "id": "95b83e47-7ad1-4ee0-845b-99a21b161643",
   "metadata": {},
   "outputs": [],
   "source": [
    "## 0 to 10 multilpy with 2 and give answer in new lisy write function"
   ]
  },
  {
   "cell_type": "code",
   "execution_count": null,
   "id": "69fa8739-2342-4e6b-9a92-7d40e04015b2",
   "metadata": {},
   "outputs": [],
   "source": []
  },
  {
   "cell_type": "code",
   "execution_count": 30,
   "id": "6147cceb-9d9c-4adf-be2b-4152d26c87b2",
   "metadata": {},
   "outputs": [],
   "source": [
    "def mul_list(list):\n",
    "    new_list = []\n",
    "    for i in list:\n",
    "        new_list.append(i*2)\n",
    "    return new_list\n"
   ]
  },
  {
   "cell_type": "markdown",
   "id": "76a1c94e-8bd9-4d7c-a2a4-08ba0700e5ba",
   "metadata": {},
   "source": [
    "mul_list([1,2,3,4,5])"
   ]
  },
  {
   "cell_type": "code",
   "execution_count": 32,
   "id": "bd25db07-cdba-4f26-8c4c-a03f6f94c74d",
   "metadata": {},
   "outputs": [],
   "source": [
    "def mul_list(list):\n",
    "    new_list = []\n",
    "    for i in list:\n",
    "        new_list.append(i*2)\n",
    "    return new_list"
   ]
  },
  {
   "cell_type": "code",
   "execution_count": 33,
   "id": "297cbc0b-525b-44bd-8755-34c35f2a2a86",
   "metadata": {},
   "outputs": [
    {
     "data": {
      "text/plain": [
       "[2, 4, 6, 8, 10]"
      ]
     },
     "execution_count": 33,
     "metadata": {},
     "output_type": "execute_result"
    }
   ],
   "source": [
    "mul_list([1,2,3,4,5])"
   ]
  },
  {
   "cell_type": "code",
   "execution_count": null,
   "id": "7624a840-fcd7-4213-a22c-c96d3b711af2",
   "metadata": {},
   "outputs": [],
   "source": []
  },
  {
   "cell_type": "code",
   "execution_count": null,
   "id": "18b6890e-6c92-4b43-acb2-b55fe51665d1",
   "metadata": {},
   "outputs": [],
   "source": []
  },
  {
   "cell_type": "code",
   "execution_count": null,
   "id": "4391806c-824a-4bbc-b4a1-890b00dbddea",
   "metadata": {},
   "outputs": [],
   "source": []
  },
  {
   "cell_type": "code",
   "execution_count": null,
   "id": "d7f97c98-b0c9-48ae-852e-be96cccbf73f",
   "metadata": {},
   "outputs": [],
   "source": [
    "## write a function that takes a list and remove that a selected  element first time"
   ]
  },
  {
   "cell_type": "code",
   "execution_count": 39,
   "id": "5086b12f-bd6d-40d9-8475-75674c9f03b2",
   "metadata": {},
   "outputs": [
    {
     "ename": "IndentationError",
     "evalue": "unindent does not match any outer indentation level (<tokenize>, line 4)",
     "output_type": "error",
     "traceback": [
      "\u001b[1;36m  File \u001b[1;32m<tokenize>:4\u001b[1;36m\u001b[0m\n\u001b[1;33m    return(new_list)\u001b[0m\n\u001b[1;37m    ^\u001b[0m\n\u001b[1;31mIndentationError\u001b[0m\u001b[1;31m:\u001b[0m unindent does not match any outer indentation level\n"
     ]
    }
   ],
   "source": [
    "def new_list(list):\n",
    "    for i in list:\n",
    "        new_list.remove(2)\n",
    "   return(new_list)     "
   ]
  },
  {
   "cell_type": "code",
   "execution_count": 40,
   "id": "1ad71cc0-c78e-4ee7-9590-dd44bc4dab14",
   "metadata": {},
   "outputs": [
    {
     "ename": "AttributeError",
     "evalue": "'function' object has no attribute 'remove'",
     "output_type": "error",
     "traceback": [
      "\u001b[1;31m---------------------------------------------------------------------------\u001b[0m",
      "\u001b[1;31mAttributeError\u001b[0m                            Traceback (most recent call last)",
      "Cell \u001b[1;32mIn[40], line 1\u001b[0m\n\u001b[1;32m----> 1\u001b[0m new_list([\u001b[38;5;241m1\u001b[39m,\u001b[38;5;241m2\u001b[39m,\u001b[38;5;241m3\u001b[39m,\u001b[38;5;241m4\u001b[39m,\u001b[38;5;241m5\u001b[39m,\u001b[38;5;241m6\u001b[39m])\n",
      "Cell \u001b[1;32mIn[36], line 3\u001b[0m, in \u001b[0;36mnew_list\u001b[1;34m(list)\u001b[0m\n\u001b[0;32m      1\u001b[0m \u001b[38;5;28;01mdef\u001b[39;00m \u001b[38;5;21mnew_list\u001b[39m(\u001b[38;5;28mlist\u001b[39m):\n\u001b[0;32m      2\u001b[0m     \u001b[38;5;28;01mfor\u001b[39;00m i \u001b[38;5;129;01min\u001b[39;00m \u001b[38;5;28mlist\u001b[39m:\n\u001b[1;32m----> 3\u001b[0m         new_list\u001b[38;5;241m.\u001b[39mremove(\u001b[38;5;241m2\u001b[39m)\n",
      "\u001b[1;31mAttributeError\u001b[0m: 'function' object has no attribute 'remove'"
     ]
    }
   ],
   "source": [
    "new_list([1,2,3,4,5,6])"
   ]
  },
  {
   "cell_type": "code",
   "execution_count": null,
   "id": "ef6af408-7949-42b5-bad2-18521fe16eb2",
   "metadata": {},
   "outputs": [],
   "source": []
  },
  {
   "cell_type": "code",
   "execution_count": 42,
   "id": "29aeb442-83a6-49e8-8a58-24ea16c48055",
   "metadata": {},
   "outputs": [],
   "source": [
    "def remove_one(list,element):\n",
    "    list.remove(element)\n",
    "    return list"
   ]
  },
  {
   "cell_type": "code",
   "execution_count": 43,
   "id": "71bc41a2-2aa6-4967-8f17-b0988582f48b",
   "metadata": {},
   "outputs": [
    {
     "data": {
      "text/plain": [
       "[1, 3, 4, 5, 2]"
      ]
     },
     "execution_count": 43,
     "metadata": {},
     "output_type": "execute_result"
    }
   ],
   "source": [
    "remove_one([1,2,3,4,5,2],2)"
   ]
  },
  {
   "cell_type": "code",
   "execution_count": null,
   "id": "6c2e26fb-ff96-4644-82de-96b0bd14b25b",
   "metadata": {},
   "outputs": [],
   "source": []
  },
  {
   "cell_type": "code",
   "execution_count": null,
   "id": "750f1cff-ef2d-4a2e-92aa-bfdb1a88cf9b",
   "metadata": {},
   "outputs": [],
   "source": []
  },
  {
   "cell_type": "code",
   "execution_count": 56,
   "id": "e64cd264-db8e-4e47-9b50-5f145a79eab8",
   "metadata": {},
   "outputs": [],
   "source": [
    "def remove_all(list,element):\n",
    "    new_list=[]\n",
    "    for i in list:\n",
    "        if i !=element:\n",
    "          new_list.append(i)  \n",
    "            \n",
    "        return new_list\n",
    "        "
   ]
  },
  {
   "cell_type": "code",
   "execution_count": 58,
   "id": "558472ce-6ac4-4e73-9444-4ad22b3c3144",
   "metadata": {},
   "outputs": [
    {
     "data": {
      "text/plain": [
       "[1]"
      ]
     },
     "execution_count": 58,
     "metadata": {},
     "output_type": "execute_result"
    }
   ],
   "source": [
    "remove_all([1,2,3,4,2,7,2],2)"
   ]
  },
  {
   "cell_type": "code",
   "execution_count": null,
   "id": "27f48bc8-27d3-4094-bd4d-1731bd869fe1",
   "metadata": {},
   "outputs": [],
   "source": []
  },
  {
   "cell_type": "code",
   "execution_count": null,
   "id": "27e47ae2-7f0c-48bb-a0d6-1dcf71ca1004",
   "metadata": {},
   "outputs": [],
   "source": []
  },
  {
   "cell_type": "code",
   "execution_count": 63,
   "id": "e32631f3-9904-41ce-9c33-9aab9df7a711",
   "metadata": {},
   "outputs": [],
   "source": [
    "def remove_all(list,element):\n",
    "    new_list = []\n",
    "    for i in list:\n",
    "        if i !=element:\n",
    "          new_list.append(i)  \n",
    "            \n",
    "    return new_list"
   ]
  },
  {
   "cell_type": "code",
   "execution_count": 64,
   "id": "3ac36c68-0c24-4c4c-8730-e0c5b4627600",
   "metadata": {},
   "outputs": [
    {
     "data": {
      "text/plain": [
       "[1, 3, 4, 5, 7]"
      ]
     },
     "execution_count": 64,
     "metadata": {},
     "output_type": "execute_result"
    }
   ],
   "source": [
    "remove_all([1,2,3,4,5,2,7,2],2)"
   ]
  },
  {
   "cell_type": "code",
   "execution_count": null,
   "id": "6c7a5185-3fe2-4e46-a3af-3839a9b61c93",
   "metadata": {},
   "outputs": [],
   "source": []
  },
  {
   "cell_type": "code",
   "execution_count": null,
   "id": "81d46737-2e2d-4fb1-ba3c-d9a980dfede4",
   "metadata": {},
   "outputs": [],
   "source": []
  },
  {
   "cell_type": "code",
   "execution_count": 65,
   "id": "ee356e4d-3653-4156-8d35-747c700058da",
   "metadata": {},
   "outputs": [],
   "source": [
    "#count occurences"
   ]
  },
  {
   "cell_type": "code",
   "execution_count": 74,
   "id": "5dc6f4bd-e645-43da-b5d2-18a0c68a3c6d",
   "metadata": {},
   "outputs": [],
   "source": [
    "def count_occ(list,element):\n",
    "    temp = 0\n",
    "    for i in list:\n",
    "        if i != element:\n",
    "            temp = temp+1\n",
    "    return temp\n",
    "        \n",
    "    "
   ]
  },
  {
   "cell_type": "code",
   "execution_count": 75,
   "id": "70f3f6ec-176f-43de-a810-af688d63fc78",
   "metadata": {},
   "outputs": [
    {
     "data": {
      "text/plain": [
       "5"
      ]
     },
     "execution_count": 75,
     "metadata": {},
     "output_type": "execute_result"
    }
   ],
   "source": [
    "count_occ([1,2,3,4,5,2,7,2],2)"
   ]
  },
  {
   "cell_type": "code",
   "execution_count": 76,
   "id": "1093f519-c7dd-48c7-9065-510e7451772d",
   "metadata": {},
   "outputs": [
    {
     "data": {
      "text/plain": [
       "<function list.count(value, /)>"
      ]
     },
     "execution_count": 76,
     "metadata": {},
     "output_type": "execute_result"
    }
   ],
   "source": [
    "list=[1,2,3,4,5]\n",
    "list.count"
   ]
  },
  {
   "cell_type": "code",
   "execution_count": null,
   "id": "a87d05f2-77b0-4884-b078-b5bff612a522",
   "metadata": {},
   "outputs": [],
   "source": []
  },
  {
   "cell_type": "code",
   "execution_count": 77,
   "id": "0c156529-b3f6-4814-b036-be9c24dd98e7",
   "metadata": {},
   "outputs": [],
   "source": [
    "## slicing"
   ]
  },
  {
   "cell_type": "code",
   "execution_count": 78,
   "id": "359d1a42-df2d-4cfb-8634-26978242c00d",
   "metadata": {},
   "outputs": [],
   "source": [
    "list=[1,2,3,4,5,6]\n",
    "\n",
    "subset"
   ]
  },
  {
   "cell_type": "code",
   "execution_count": null,
   "id": "e48b8884-9712-4fba-a66b-d44988ddd666",
   "metadata": {},
   "outputs": [],
   "source": []
  }
 ],
 "metadata": {
  "kernelspec": {
   "display_name": "Python 3 (ipykernel)",
   "language": "python",
   "name": "python3"
  },
  "language_info": {
   "codemirror_mode": {
    "name": "ipython",
    "version": 3
   },
   "file_extension": ".py",
   "mimetype": "text/x-python",
   "name": "python",
   "nbconvert_exporter": "python",
   "pygments_lexer": "ipython3",
   "version": "3.10.14"
  }
 },
 "nbformat": 4,
 "nbformat_minor": 5
}
